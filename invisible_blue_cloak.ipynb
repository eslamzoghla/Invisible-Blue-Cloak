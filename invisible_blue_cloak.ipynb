{
 "cells": [
  {
   "cell_type": "code",
   "execution_count": 1,
   "metadata": {},
   "outputs": [],
   "source": [
    "import cv2\n",
    "import numpy as np\n",
    "import time"
   ]
  },
  {
   "cell_type": "code",
   "execution_count": 2,
   "metadata": {},
   "outputs": [],
   "source": [
    "# Initialize video capture (camera feed or video file)\n",
    "capture_video = cv2.VideoCapture(0) \n",
    "\t\n",
    "# Allow the camera to warm up \n",
    "time.sleep(1)\n",
    "count = 0\n",
    "background = 0\n",
    "\n",
    "# Capturing the background in range of 60 \n",
    "# (capture a few seconds of background to stabilize the image)\n",
    "for i in range(60): \n",
    "    return_val, background = capture_video.read() \n",
    "    if return_val == False: \n",
    "        continue\n",
    "\n",
    "background = np.flip(background, axis = 1)  # Flipping the frame for consistency\n",
    "\n",
    "# Start reading from the video\n",
    "while (capture_video.isOpened()): \n",
    "    return_val, img = capture_video.read() \n",
    "    if not return_val: \n",
    "        break\n",
    "    count = count + 1\n",
    "    img = np.flip(img, axis = 1)  # Flip for a mirror view\n",
    "\n",
    "    # Convert the image from BGR to HSV for better color detection\n",
    "    hsv = cv2.cvtColor(img, cv2.COLOR_BGR2HSV)\n",
    "\n",
    "    # ------------------------------------ BLUE DETECTION ------------------------------------- #\n",
    "    # Adjusting the HSV range to detect blue color\n",
    "    lower_blue = np.array([100, 100, 100])  # Lower range for blue\n",
    "    upper_blue = np.array([140, 255, 255])  # Upper range for blue\n",
    "    mask1 = cv2.inRange(hsv, lower_blue, upper_blue)\n",
    "\n",
    "    # Refining the mask corresponding to the detected blue color\n",
    "    mask1 = cv2.morphologyEx(mask1, cv2.MORPH_OPEN, np.ones((3, 3), np.uint8), iterations=2) \n",
    "    mask1 = cv2.dilate(mask1, np.ones((3, 3), np.uint8), iterations=1) \n",
    "    mask2 = cv2.bitwise_not(mask1)\n",
    "\n",
    "    # Generating the final output where blue areas are replaced by background\n",
    "    res1 = cv2.bitwise_and(background, background, mask=mask1) \n",
    "    res2 = cv2.bitwise_and(img, img, mask=mask2) \n",
    "    final_output = cv2.addWeighted(res1, 1, res2, 1, 0) \n",
    "\n",
    "    # Display the final output\n",
    "    cv2.imshow(\"Invisible Blue\", final_output) \n",
    "    k = cv2.waitKey(10) \n",
    "    if k == 27:  # Press 'ESC' to exit\n",
    "        break\n",
    "\n",
    "# Release the video capture and close all windows\n",
    "capture_video.release() \n",
    "cv2.destroyAllWindows()"
   ]
  }
 ],
 "metadata": {
  "kernelspec": {
   "display_name": "base",
   "language": "python",
   "name": "python3"
  },
  "language_info": {
   "codemirror_mode": {
    "name": "ipython",
    "version": 3
   },
   "file_extension": ".py",
   "mimetype": "text/x-python",
   "name": "python",
   "nbconvert_exporter": "python",
   "pygments_lexer": "ipython3",
   "version": "3.9.13"
  }
 },
 "nbformat": 4,
 "nbformat_minor": 2
}
